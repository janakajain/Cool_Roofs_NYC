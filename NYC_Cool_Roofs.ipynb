{
 "cells": [
  {
   "cell_type": "markdown",
   "metadata": {},
   "source": [
    "# NYC Cool Roofs Buildings  \n",
    "  \n",
    "---"
   ]
  },
  {
   "cell_type": "markdown",
   "metadata": {},
   "source": [
    "## About Cool Roofs in NYC  \n",
    "  \n",
    "\n",
    "_Source_: http://www.nyc.gov/html/gbee/html/initiatives/coolroofs.shtml  \n",
    "  \n",
    "**NYC °CoolRoofs**\n",
    "  \t\n",
    "NYC °CoolRoofs, an NYC Service initiative, is a collaboration between the NYC Department of Buildings and NYC Service to promote and facilitate the cooling of New York City's rooftops. Working with non-profits, City agencies, and building owners, NYC °CoolRoofs engages volunteers in applying white, reflective surfaces to rooftops, which reduces cooling costs, cuts energy usage, and lowers greenhouse gas emissions. \n",
    " \n",
    "\t\n",
    "**How It Works**  \n",
    "  \n",
    "The coating used on the rooftops is highly reflective and quickly releases heat, which results in reduced absorption of solar heat leading to cooler buildings. Temperatures within the building can be reduced by up to 30 percent, cutting cooling-related electricity costs in warmer months. By regulating rooftop temperatures, the coating also helps to extend the life of rooftops as well as cooling equipment. In addition to the immediate benefits for the coated buildings, white rooftops reduce temperature in the surrounding areas and combat the Urban Heat Island Effect-the warming effect experienced in cities when paved areas prevent evaporative cooling processes, and dark surfaces, such as asphalt, absorb solar heat, increasing average ambient temperatures by up to five degrees. Coating all eligible rooftops in New York City could mitigate this effect by up to one degree.  \n",
    "  \n",
    "---  "
   ]
  },
  {
   "cell_type": "markdown",
   "metadata": {},
   "source": [
    "## About the Data  \n",
    "  \n",
    "You can download this dataset from [here](https://data.cityofnewyork.us/Environment/NYC-Cool-Roofs-Buildings/uuxn-wzxe)  \n",
    "  \n",
    "---"
   ]
  },
  {
   "cell_type": "markdown",
   "metadata": {},
   "source": [
    "### Importing the tools and libraries"
   ]
  },
  {
   "cell_type": "code",
   "execution_count": 2,
   "metadata": {
    "collapsed": true
   },
   "outputs": [],
   "source": [
    "import pandas as pd\n",
    "import gmplot\n",
    "import matplotlib.pyplot as plt\n",
    "\n",
    "%matplotlib inline"
   ]
  },
  {
   "cell_type": "markdown",
   "metadata": {},
   "source": [
    "### Importing the dataset"
   ]
  },
  {
   "cell_type": "code",
   "execution_count": 133,
   "metadata": {
    "collapsed": false
   },
   "outputs": [],
   "source": [
    "def get_data(path):\n",
    "    \n",
    "    data = pd.read_csv(path)\n",
    "    \n",
    "    data['Location'] = data['Location'].str.replace('\\n',' ')\n",
    "    data['Address'] = ''\n",
    "    data['Latitude'] = ''\n",
    "    data['Longitude'] = ''\n",
    "    \n",
    "    for i, row in data.iterrows():\n",
    "        if(i > 0):\n",
    "            data.loc[i,'Address'] = data.loc[i,'Location'].split('(')[0]\n",
    "            data.loc[i,'Latitude'] = data.loc[i,'Location'].split('(')[1].split(',')[0] \n",
    "            data.loc[i,'Longitude'] = data.loc[i,'Location'].split('(')[1].split(',')[1][:-1]\n",
    "        if(i == 0):\n",
    "            data.loc[i,'Address'] = data.loc[i,'Location']\n",
    "            data.loc[i,'Latitude'] = '40.734521'\n",
    "            data.loc[i,'Longitude'] = '-73.755315'\n",
    "    \n",
    "    data['Latitude'] = data['Latitude'].apply(pd.to_numeric)\n",
    "    data['Longitude'] = data['Longitude'].apply(pd.to_numeric)\n",
    "            \n",
    "    return data"
   ]
  },
  {
   "cell_type": "code",
   "execution_count": 134,
   "metadata": {
    "collapsed": false
   },
   "outputs": [],
   "source": [
    "data = get_data('NYC_Cool_Roofs_Buildings.csv')"
   ]
  },
  {
   "cell_type": "code",
   "execution_count": 135,
   "metadata": {
    "collapsed": false,
    "scrolled": true
   },
   "outputs": [
    {
     "data": {
      "text/html": [
       "<div>\n",
       "<table border=\"1\" class=\"dataframe\">\n",
       "  <thead>\n",
       "    <tr style=\"text-align: right;\">\n",
       "      <th></th>\n",
       "      <th>Neighborhood</th>\n",
       "      <th>Total Sq Ft</th>\n",
       "      <th>Address 1</th>\n",
       "      <th>Address 2</th>\n",
       "      <th>Zip</th>\n",
       "      <th>Location</th>\n",
       "      <th>Address</th>\n",
       "      <th>Latitude</th>\n",
       "      <th>Longitude</th>\n",
       "    </tr>\n",
       "  </thead>\n",
       "  <tbody>\n",
       "    <tr>\n",
       "      <th>0</th>\n",
       "      <td>Oakland Gardens</td>\n",
       "      <td>5000</td>\n",
       "      <td>79-50 Bell Blvd</td>\n",
       "      <td>Windsor Park Library</td>\n",
       "      <td>11634</td>\n",
       "      <td>79-50 Bell Blvd NY 11634</td>\n",
       "      <td>79-50 Bell Blvd NY 11634</td>\n",
       "      <td>40.734521</td>\n",
       "      <td>-73.755315</td>\n",
       "    </tr>\n",
       "    <tr>\n",
       "      <th>1</th>\n",
       "      <td>Bronx</td>\n",
       "      <td>6000</td>\n",
       "      <td>812 Edgewater Rd</td>\n",
       "      <td>Rocking the Boat</td>\n",
       "      <td>10474</td>\n",
       "      <td>812 Edgewater Rd NY 10474 (40.81777429182637, ...</td>\n",
       "      <td>812 Edgewater Rd NY 10474</td>\n",
       "      <td>40.817774</td>\n",
       "      <td>-73.883448</td>\n",
       "    </tr>\n",
       "    <tr>\n",
       "      <th>2</th>\n",
       "      <td>Bowery</td>\n",
       "      <td>5027</td>\n",
       "      <td>333 Bowery</td>\n",
       "      <td>Kenton Hall</td>\n",
       "      <td>10003</td>\n",
       "      <td>333 Bowery NY 10003 (40.725958325156626, -73.9...</td>\n",
       "      <td>333 Bowery NY 10003</td>\n",
       "      <td>40.725958</td>\n",
       "      <td>-73.991863</td>\n",
       "    </tr>\n",
       "    <tr>\n",
       "      <th>3</th>\n",
       "      <td>High Bridge</td>\n",
       "      <td>4658</td>\n",
       "      <td>1665 Macombs Road</td>\n",
       "      <td>NaN</td>\n",
       "      <td>10453</td>\n",
       "      <td>1665 Macombs Road NY 10453 (40.84788359336733,...</td>\n",
       "      <td>1665 Macombs Road NY 10453</td>\n",
       "      <td>40.847884</td>\n",
       "      <td>-73.916237</td>\n",
       "    </tr>\n",
       "    <tr>\n",
       "      <th>4</th>\n",
       "      <td>East New York</td>\n",
       "      <td>3540</td>\n",
       "      <td>486 Williams Ave</td>\n",
       "      <td>NaN</td>\n",
       "      <td>11207</td>\n",
       "      <td>486 Williams Ave NY 11207 (40.66387331295226, ...</td>\n",
       "      <td>486 Williams Ave NY 11207</td>\n",
       "      <td>40.663873</td>\n",
       "      <td>-73.897693</td>\n",
       "    </tr>\n",
       "  </tbody>\n",
       "</table>\n",
       "</div>"
      ],
      "text/plain": [
       "      Neighborhood  Total Sq Ft          Address 1             Address 2  \\\n",
       "0  Oakland Gardens         5000    79-50 Bell Blvd  Windsor Park Library   \n",
       "1            Bronx         6000   812 Edgewater Rd      Rocking the Boat   \n",
       "2           Bowery         5027         333 Bowery           Kenton Hall   \n",
       "3      High Bridge         4658  1665 Macombs Road                   NaN   \n",
       "4    East New York         3540   486 Williams Ave                   NaN   \n",
       "\n",
       "     Zip                                           Location  \\\n",
       "0  11634                          79-50 Bell Blvd NY 11634    \n",
       "1  10474  812 Edgewater Rd NY 10474 (40.81777429182637, ...   \n",
       "2  10003  333 Bowery NY 10003 (40.725958325156626, -73.9...   \n",
       "3  10453  1665 Macombs Road NY 10453 (40.84788359336733,...   \n",
       "4  11207  486 Williams Ave NY 11207 (40.66387331295226, ...   \n",
       "\n",
       "                       Address   Latitude  Longitude  \n",
       "0    79-50 Bell Blvd NY 11634   40.734521 -73.755315  \n",
       "1   812 Edgewater Rd NY 10474   40.817774 -73.883448  \n",
       "2         333 Bowery NY 10003   40.725958 -73.991863  \n",
       "3  1665 Macombs Road NY 10453   40.847884 -73.916237  \n",
       "4   486 Williams Ave NY 11207   40.663873 -73.897693  "
      ]
     },
     "execution_count": 135,
     "metadata": {},
     "output_type": "execute_result"
    }
   ],
   "source": [
    "data.head()"
   ]
  },
  {
   "cell_type": "markdown",
   "metadata": {},
   "source": [
    "### Heatmap of the Green Roofs in NYC"
   ]
  },
  {
   "cell_type": "code",
   "execution_count": 136,
   "metadata": {
    "collapsed": false
   },
   "outputs": [],
   "source": [
    "gmap = gmplot.GoogleMapPlotter(40.7128, -74.0059, 11)\n",
    "latitudes = data['Latitude']\n",
    "longitudes = data['Longitude']\n",
    "gmap.heatmap(latitudes, longitudes)\n",
    "gmap.draw('Green_Roofs_NYC_map.html')"
   ]
  },
  {
   "cell_type": "markdown",
   "metadata": {},
   "source": [
    "<img src='images/Green_Roofs_NYC.png' height=500px width=500px />\n",
    "<br>\n",
    "<center><b><i> Figure 1: A heatmap of NYC Green Roof Buildings </i></b></center> \n",
    "<br>\n",
    "<center><i>Courtesy: Google Maps </i></center>"
   ]
  },
  {
   "cell_type": "markdown",
   "metadata": {},
   "source": [
    "## A few thoughts"
   ]
  },
  {
   "cell_type": "markdown",
   "metadata": {},
   "source": [
    "* The cool roof buildinsgs in New York City are clustered across disparate areas.  \n",
    "* There is a dense cluster of cool roof buildings in Lower Manhattan, between 3rd and 4th street - 2nd and 3rd Avenue.  \n",
    "* Apparantely, Harlem also has a substantial number of cool roof Buildings.  \n",
    "* There are very few or next to none cool roof buildings in Upper West and Upper East sides of New York. This is a huge opportunity, and given the demographics and socio-economic make-up in this area, green roofs should be an affordable option for various societies.  \n",
    "* Interestingly, the United Nations Headquarters Building doesn't seem to have a cool roof."
   ]
  },
  {
   "cell_type": "markdown",
   "metadata": {},
   "source": [
    "### All is not well, though"
   ]
  },
  {
   "cell_type": "markdown",
   "metadata": {},
   "source": [
    "**The Big Red Dot**: The dotted buildings seem to have cool roofs. But many other buildings to have cool roofs too. There seems to be some dissonance. Let us check if we observe the same phenomenon at other places. [See section titled Caveats]  \n",
    "  \n  ",
    "<img src='images/False_Positive_Cool_Roofs.png' height=500px width=500px />  \n",
    "<br>\n",
    "<center><b><i> Figure 2: False Positive Green Rooftops in Lower Manhattan - the Big Red Dot </i></b></center>\n",
    "<br>\n",
    "<center><i>Courtesy: Google Maps</i></center>\n",
    "<br>\n",
    "<hr>\n",
    "<br>\n",
    "**The Bronx**: A similar story is observed in the Bronx where other neighboring buildings have cool roofs too. [See section titled Caveats]  \n",
    "<img src='images/False_Positive_Cool_Roofs_2.png' height=500px width=500px />  \n",
    "<br>\n",
    "<center><b><i> Figure 2: False Positive Green Rooftops in Lower Manhattan - the Big Red Dot </i></b></center>\n",
    "<br>\n",
    "<center><i>Courtesy: Google Maps</i></center>\n",
    "<br>\n",
    "<hr>\n",
    "<br>\n",
    "**Opportunities**: There are a lot of opportunity areas - some of them in the Upper East side - where it may make sense for the 'powerful' housing socities to adopt the cool roof system.  \n",
    "<img src='images/Opportunities.png' height=500px width=1000px />  \n",
    "<br>\n",
    "<center><b><i> Figure 3: Opportunity areas - such as the Upper East Side </i></b></center>\n",
    "<br>\n",
    "<center><i>Courtesy: Google Maps</i></center>"
   ]
  },
  {
   "cell_type": "markdown",
   "metadata": {},
   "source": [
    "### Caveats"
   ]
  },
  {
   "cell_type": "markdown",
   "metadata": {},
   "source": [
    "Since this dataset was generate in 2013, and it has been 4 years since then, it is plausible that many cool roofs haven't been covered."
   ]
  },
  {
   "cell_type": "code",
   "execution_count": null,
   "metadata": {
    "collapsed": true
   },
   "outputs": [],
   "source": []
  }
 ],
 "metadata": {
  "anaconda-cloud": {},
  "kernelspec": {
   "display_name": "Python [default]",
   "language": "python",
   "name": "python2"
  },
  "language_info": {
   "codemirror_mode": {
    "name": "ipython",
    "version": 2
   },
   "file_extension": ".py",
   "mimetype": "text/x-python",
   "name": "python",
   "nbconvert_exporter": "python",
   "pygments_lexer": "ipython2",
   "version": "2.7.12"
  }
 },
 "nbformat": 4,
 "nbformat_minor": 2
}
